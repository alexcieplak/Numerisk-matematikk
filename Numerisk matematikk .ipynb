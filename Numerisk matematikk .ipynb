{
 "cells": [
  {
   "cell_type": "markdown",
   "metadata": {},
   "source": [
    "##### 3. januar 2020\n",
    "# Numerisk matematikk og algoritmer.\n",
    "\n",
    "Numerisk matematikk er en del av matematikken som handler om å lage algoritmer for å tilnærme matematiske problemer med minst mulig feil.\n",
    "\n",
    "### Numeriske metoder \n",
    "* Derivasjon og integrasjon \n",
    "* Løsning av likninger \n",
    "* Løsning av differensiallikninger\n",
    "\n",
    "### Algoritmer \n",
    "En presis beskrivelse av en serie operasjoner som skal utføres for å oppnå et visst resultat. \n",
    "\n",
    "Ulike domener som inneholder algoritmer: \n",
    "- Datamaskiner \n",
    "- Matematikk \n",
    "- Sosiale strukturer og normer \n",
    "- Hjernen vår\n",
    "\n",
    "Algoritmer er ikke helt vanntette \n",
    "\n",
    "## Primtall"
   ]
  },
  {
   "cell_type": "code",
   "execution_count": 1,
   "metadata": {},
   "outputs": [
    {
     "name": "stdout",
     "output_type": "stream",
     "text": [
      "['Primtallene fra 2 til 100 er:', 2, 3, 5, 7, 11, 13, 17, 19, 23, 29, 31, 37, 41, 43, 47, 53, 59, 61, 67, 71, 73, 79, 83, 89, 97]\n"
     ]
    }
   ],
   "source": [
    "primtall = [\"Primtallene fra 2 til 100 er:\"]\n",
    "\n",
    "\n",
    "for i in range(2, 101): \n",
    "    for n in range(2, i): \n",
    "        if (i % n) == 0: \n",
    "            break\n",
    "    else: \n",
    "        primtall.append(i)\n",
    "\n",
    "print(primtall)"
   ]
  },
  {
   "cell_type": "markdown",
   "metadata": {},
   "source": [
    "##### 8. januar 2020\n",
    "# Likninger og Algoritmer \n",
    "## Halveringsmetoden "
   ]
  },
  {
   "cell_type": "code",
   "execution_count": 2,
   "metadata": {},
   "outputs": [
    {
     "name": "stdout",
     "output_type": "stream",
     "text": [
      "-1.9999980926513672\n",
      "21\n"
     ]
    }
   ],
   "source": [
    "a = -10\n",
    "b = 10\n",
    "m = (a+b)/2\n",
    "tol = 1E-5\n",
    "tell = 0 \n",
    "\n",
    "def f(x):\n",
    "    return x**2 - 4  \n",
    "    \n",
    "while abs(f(m)) > tol : \n",
    "    tell += 1\n",
    "    m = (a+b)/2\n",
    "    if f(a) * f(m) < 0 : \n",
    "        b = m \n",
    "    elif f(b) * f(m) < 0 : \n",
    "        a = m \n",
    "        \n",
    "print(m)\n",
    "print(tell)"
   ]
  },
  {
   "cell_type": "code",
   "execution_count": 5,
   "metadata": {},
   "outputs": [
    {
     "name": "stdout",
     "output_type": "stream",
     "text": [
      "Nullpunktet var 1.0000000000218279  og løkka kjørte 36 ganger\n"
     ]
    }
   ],
   "source": [
    "# Som en funksjon \n",
    "def g(x): \n",
    "    return 2 * x - 2\n",
    "\n",
    "def halveringsmetoden(a, b, f, tol=1E-10): \n",
    "    m = (a+b)/2\n",
    "    i = 0\n",
    "    while abs(f(m)) > tol : \n",
    "        if f(a) * f(m) < 0 : \n",
    "            b = m \n",
    "        elif f(b) * f(m) < 0 : \n",
    "            a = m \n",
    "        m = (a+b)/2\n",
    "        i += 1\n",
    "    return m, i\n",
    "\n",
    "nullpunkt, antall = halveringsmetoden(-5,10,g)\n",
    "print(\"Nullpunktet var\", nullpunkt, \" og løkka kjørte\", antall, \"ganger\")"
   ]
  },
  {
   "cell_type": "markdown",
   "metadata": {},
   "source": [
    "## Babylonsk algoritme for å finne røtter"
   ]
  },
  {
   "cell_type": "code",
   "execution_count": 4,
   "metadata": {},
   "outputs": [
    {
     "name": "stdout",
     "output_type": "stream",
     "text": [
      "\n",
      "Numerisk: 3.4641016151377544 \n",
      "Analystisk: 3.4641016151377544\n"
     ]
    }
   ],
   "source": [
    "def kvadratrot(a , x0, N):\n",
    "    \"\"\"\n",
    "    a = tallet du vil ta kvadratroten av \n",
    "    x0 = startgjett\n",
    "    N = antall operasjoner \n",
    "    \"\"\"\n",
    "    x = x0\n",
    "\n",
    "    for i in range(N):\n",
    "        x = 0.5*(x + a /x)\n",
    "    \n",
    "    return x \n",
    "\n",
    "rot = kvadratrot(12, 100, 10)    \n",
    "\n",
    "print(\"\\nNumerisk:\", rot, \"\\nAnalystisk:\", 12**0.5)\n",
    "    "
   ]
  },
  {
   "cell_type": "markdown",
   "metadata": {},
   "source": [
    "# Newtons metode\n",
    "Vi har en kontinuerlig funksjon f som vi tilnærmer nullpunktet med f med nullpunktet til tangentene til f. \n",
    "###### Ettpunktsformelen \n",
    "$T(x) = f'(x)*(x - x_{1}) + f(x)$\n",
    "\n",
    "$x = x_{1} - \\frac{f{x_1}}{f'{x_1}}$\n",
    "\n",
    "$x_{n+1} = x_{n} - \\frac{f(x_{n})}{f'(x_{n})} $"
   ]
  },
  {
   "cell_type": "code",
   "execution_count": 14,
   "metadata": {},
   "outputs": [
    {
     "name": "stdout",
     "output_type": "stream",
     "text": [
      "Nullpunktet er: 2.000000000000785 og løkka gikk: 10 ganger\n"
     ]
    }
   ],
   "source": [
    "def f(x):\n",
    "    return x**2 - 4\n",
    "\n",
    "def fder(x):\n",
    "    return 2*x\n",
    "\n",
    "def newt(f, fder, x, tol = 1E-8, N = 100):\n",
    "    i = 0\n",
    "    while abs(f(x)) > tol and i < N:\n",
    "        x = x - (f(x)/fder(x))\n",
    "        i += 1\n",
    "    return x , i \n",
    "\n",
    "nullpunkt , antall = newt(f, fder, 140)\n",
    "print(\"Nullpunktet er:\", nullpunkt, \"og løkka gikk:\", antall, \"ganger\")"
   ]
  },
  {
   "cell_type": "code",
   "execution_count": null,
   "metadata": {},
   "outputs": [],
   "source": [
    "problemet med metoden er .... et eller annet "
   ]
  },
  {
   "cell_type": "markdown",
   "metadata": {},
   "source": [
    "# Skyte spurv med kanoner \n",
    "### a) \n",
    "$ y(t) = v_{0} * sin\\theta * t - \\frac{1}{2}*g*t^{2}$\n",
    "\n",
    "Dette er en av veiformlene men en liten modifikasjon. Det er lagt til en sinus av en radian. \n",
    "\n",
    "$s = v_{0} * t - \\frac{1}{2} * a * t^{2}$\n",
    "\n",
    "Ved at det er en sinus, ikke cosinus, vil grafen være positiv. \n",
    "\n",
    "### b) \n",
    "$ x(t)= v_{0} * cos\\theta * t $\n",
    "\n",
    "x(t) vil gi strekningen i meter \n",
    "\n",
    "kulens strekning x(t) er gitt ved x (t) = v0 altså startfarten * cos( theta) * t fordi hvis man ser for seg kulens start so en trekant med en normal linje mot x aksen som viser strekningen må man finne x verdien som er den nærmestliggende kateten til utskytningsvinkelen\n",
    "\n",
    "cos = hypotenus delt på hosliggende katet fra den aktuelle vinkel\n",
    "\n",
    "\n",
    "\n",
    "\n",
    "### c) d) og e)\n"
   ]
  },
  {
   "cell_type": "code",
   "execution_count": 5,
   "metadata": {},
   "outputs": [
    {
     "name": "stdout",
     "output_type": "stream",
     "text": [
      "\n",
      "Oppgave c og d\n",
      "\n",
      "Tid: 1.1340075498641349 \n",
      "Avstand: 19.41309485687136\n",
      "\n",
      "\n",
      "Oppgave e\n",
      "\n",
      "For pi/ 3 Tid: 3.1780748763476776 \n",
      "Avstand: 28.602673887129104\n",
      "\n",
      "For pi/ 4 Tid: 2.5948872820010096 \n",
      "Avstand: 33.027523083317575\n",
      "\n",
      "For pi/ 5 Tid: 2.1570104809394532 \n",
      "Avstand: 31.411046450248133\n",
      "\n",
      "For pi/ 6 Tid: 1.8348623853309842 \n",
      "Avstand: 28.60267388661259\n"
     ]
    }
   ],
   "source": [
    "from pylab import * \n",
    "\n",
    "def y(t, v0, theta):\n",
    "    g = 9.81\n",
    "    return v0*sin(theta) * t - 0.5*g*t**2\n",
    "\n",
    "def yder(t, v0, theta):\n",
    "    g = 9.81\n",
    "    return v0*sin(theta) - (g * t)\n",
    "\n",
    "def x(t, v0, theta):\n",
    "    return v0* cos(theta)*t\n",
    "\n",
    "def newtons(f, fder, x, v0, theta, tol = 1E-5, N = 100):\n",
    "    i = 0\n",
    "    while abs(f(x, v0, theta)) > tol and i <= N:   \n",
    "        i += 1\n",
    "        x = x - f(x, v0, theta)/fder(x, v0, theta)\n",
    "    return x\n",
    "\n",
    "print(\"\\nOppgave c og d\")\n",
    "tid = newtons(y,yder,10, 18, pi/10)\n",
    "avstand = x(tid, 18, pi/10)\n",
    "print(\"\\nTid:\", tid, \"\\nAvstand:\", avstand)\n",
    "\n",
    "print(\"\\n\\nOppgave e\")\n",
    "for geir in range (3,7):\n",
    "    tid = newtons(y,yder,10, 18, pi/geir)\n",
    "    avstand = x(tid, 18, pi/geir)\n",
    "    print(\"\\nFor pi/\", geir, \"Tid:\", tid, \"\\nAvstand:\", avstand)"
   ]
  },
  {
   "cell_type": "markdown",
   "metadata": {},
   "source": [
    "### f)"
   ]
  },
  {
   "cell_type": "code",
   "execution_count": 6,
   "metadata": {},
   "outputs": [
    {
     "name": "stdout",
     "output_type": "stream",
     "text": [
      "\n",
      "Prøve på ting 1\n",
      "Vinkel: 30 grader\n",
      "\n",
      "Tid: 0.6422018616622164 \n",
      "Avstand: 3.503827697309977\n",
      "Feilmarginen var på 0.0010924330876531938\n",
      "\n",
      "Vi prøvde to ganger siden den første gangen hadde vi for kort målebånd, kulen kom litt kortere enn vi beregnet. Avstand vi fikk: 3.5 meter. \n",
      "\n",
      "\n",
      "Prøve på ting 2\n",
      "Vinkel: 45 grader\n",
      "\n",
      "Tid: 1.0812035004349292 \n",
      "Avstand: 5.733947452501281\n",
      "\n",
      "Avstand vi fikk : 4.9 meter \n",
      "Feilmarginen var på 0.1454403723454935\n"
     ]
    }
   ],
   "source": [
    "\n",
    "def feilmargin(maaling, tid):\n",
    "    return (avstand - maaling)/(avstand)\n",
    "\n",
    "print(\"\\nPrøve på ting 1\")\n",
    "print(\"Vinkel: 30 grader\")\n",
    "tid = newtons(y,yder,10, 6.3, 30*pi/180)\n",
    "avstand = x(tid, 6.3, 30*pi/180)\n",
    "print(\"\\nTid:\", tid, \"\\nAvstand:\", avstand)\n",
    "                                      \n",
    "feil1 = feilmargin(3.5,tid)\n",
    "print(\"Feilmarginen var på\", feil1)\n",
    "\n",
    "print(\"\\nVi prøvde to ganger siden den første gangen hadde vi for kort målebånd, kulen kom litt kortere enn vi beregnet. Avstand vi fikk: 3.5 meter. \")\n",
    "\n",
    "print(\"\\n\\nPrøve på ting 2\")\n",
    "print(\"Vinkel: 45 grader\")\n",
    "tid = newtons(y,yder,10, 7.5, 45*pi/180)\n",
    "avstand = x(tid, 7.5, 45*pi/180)\n",
    "print(\"\\nTid:\", tid, \"\\nAvstand:\", avstand)\n",
    "\n",
    "print(\"\\nAvstand vi fikk : 4.9 meter \")\n",
    "\n",
    "\n",
    "feil2 = feilmargin(4.9,tid)\n",
    "print(\"Feilmarginen var på\", feil2)\n",
    "                                      \n"
   ]
  },
  {
   "cell_type": "markdown",
   "metadata": {},
   "source": [
    "## Feilkilder\n",
    "\n",
    "Feilkilder vi eventuelt har, kan være blandt annet at programmet ser bort ifra luftmotstand, det at vi ikke klarer å se eksakt lengde selv, og at det var vanskelig å måle riktig vinkel. For å kopansere, hadde vi en ganske enorm feilmargin før vi bestemte oss for at målingene var ubrukelige.\n",
    "\n",
    "Vi forkastet en del målinger ettersom de ikke stemte i det hele tatt med den teoretiske verdien vi burde ha fått (over 0.75 m feil ble forkastet). #Heftig_feilmargin\n",
    "\n",
    "Vi brukte litt tid med å komme i gang med selve forsøket, blant annet pga problemer med Hannes pc og mangel på utstyr (vi manglet en kule en god stund, og vi stjal den fra opp til flere uten mye suksess, og skylder på deg 🙂 ). \n",
    "\n",
    "PS: Beklager at vi ikke har gjordt oppgave g, men vi pleier ikke gå rundt med kanoner i sekken"
   ]
  },
  {
   "cell_type": "code",
   "execution_count": null,
   "metadata": {},
   "outputs": [],
   "source": []
  }
 ],
 "metadata": {
  "kernelspec": {
   "display_name": "Python 3",
   "language": "python",
   "name": "python3"
  },
  "language_info": {
   "codemirror_mode": {
    "name": "ipython",
    "version": 3
   },
   "file_extension": ".py",
   "mimetype": "text/x-python",
   "name": "python",
   "nbconvert_exporter": "python",
   "pygments_lexer": "ipython3",
   "version": "3.7.4"
  }
 },
 "nbformat": 4,
 "nbformat_minor": 2
}
